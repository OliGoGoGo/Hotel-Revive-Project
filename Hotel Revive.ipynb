{
 "cells": [
  {
   "cell_type": "markdown",
   "id": "70844db5",
   "metadata": {},
   "source": [
    "# 5291 Spring 23 Group Project"
   ]
  },
  {
   "cell_type": "markdown",
   "id": "8d01394c",
   "metadata": {},
   "source": [
    "Group Members: Barbara Cai (YC4174), Jieyi Dong (JD3867), Han Wang (HW2912)"
   ]
  },
  {
   "cell_type": "markdown",
   "id": "f1daf466",
   "metadata": {},
   "source": [
    "# 1. Hotel Data exploration: Reservation and Cancellation"
   ]
  },
  {
   "cell_type": "markdown",
   "id": "54f1a68d",
   "metadata": {},
   "source": [
    "## 1.1 Background "
   ]
  },
  {
   "cell_type": "markdown",
   "id": "37bcb74a",
   "metadata": {},
   "source": [
    "For this project, we aim to analyze a comprehensive data set regarding hotels' reservations and cancellations. In the first part of the project, we will perform Exploratory Data Analysis and do a data cleaning regarding null and illogical data points. Then we will analyze specific areas within the data set to produce fruitful insight into the performance of hotels and customers. Finally, we will include a machine learning analysis to predict the cancellation of hotels. Specifically, we will using Logistic Model and Time Series Model in model fitting and then compare the prediction level between models to see which one has more precise prediction for our hotel dataset."
   ]
  },
  {
   "cell_type": "markdown",
   "id": "6b456148",
   "metadata": {},
   "source": [
    "## 1.2 Exploratory Data Analysis"
   ]
  },
  {
   "cell_type": "code",
   "execution_count": null,
   "id": "788ccb9f",
   "metadata": {},
   "outputs": [],
   "source": [
    "#original df\n",
    "#data before cleaning\n",
    "#check for missing data and outliers\n",
    " #1. delete NA values 2. fill out missing values of children and country columns"
   ]
  },
  {
   "cell_type": "code",
   "execution_count": 4,
   "id": "2b462ab3",
   "metadata": {},
   "outputs": [],
   "source": [
    "import pandas as pd\n",
    "import numpy as np\n",
    "import seaborn as sns\n",
    "import matplotlib.pyplot as plt\n",
    "%matplotlib inline\n",
    "from sklearn.ensemble import RandomForestClassifier\n",
    "from sklearn.neighbors import KNeighborsClassifier\n",
    "from sklearn.tree import DecisionTreeClassifier\n",
    "from sklearn.linear_model import LogisticRegression\n",
    "import pdb\n",
    "import requests\n",
    "from lxml import etree\n",
    "from lxml import html\n",
    "import csv\n",
    "import matplotlib as mpl\n",
    "df = pd.read_csv('/Users/jz/Desktop/hotel_bookings.csv')"
   ]
  },
  {
   "cell_type": "markdown",
   "id": "4f61f0ff",
   "metadata": {},
   "source": [
    "## 1.3 Data Cleaning\n",
    "First, check the number of NA values in each column. We want to drop any column that has too many NA values."
   ]
  },
  {
   "cell_type": "code",
   "execution_count": 5,
   "id": "5a2af385",
   "metadata": {
    "scrolled": true
   },
   "outputs": [
    {
     "name": "stdout",
     "output_type": "stream",
     "text": [
      "Column children has 4 NA entries\n",
      "Column country has 488 NA entries\n",
      "Column agent has 16340 NA entries\n",
      "Column company has 112593 NA entries\n"
     ]
    }
   ],
   "source": [
    "for name in df.columns.tolist():\n",
    "    na_count = df[name].isna().sum()\n",
    "    if na_count != 0:\n",
    "        print('Column',name, 'has', df[name].isna().sum(), 'NA entries')\n",
    "    "
   ]
  },
  {
   "cell_type": "markdown",
   "id": "23110776",
   "metadata": {},
   "source": [
    "Children and country columns only have a few entries missing,so we fillied in the children with the average number and filled in country with 0. Since agent and company are missing many entries, we drop these two columns."
   ]
  },
  {
   "cell_type": "code",
   "execution_count": 6,
   "id": "a6a15114",
   "metadata": {},
   "outputs": [],
   "source": [
    "df = df.drop(columns = ['agent', 'company'])\n",
    "df['country'].fillna(0, inplace=True)\n",
    "df['children'].fillna(df['children'].mode()[0], inplace = True)"
   ]
  },
  {
   "cell_type": "code",
   "execution_count": 7,
   "id": "a0a2d389",
   "metadata": {},
   "outputs": [
    {
     "data": {
      "text/html": [
       "<div>\n",
       "<style scoped>\n",
       "    .dataframe tbody tr th:only-of-type {\n",
       "        vertical-align: middle;\n",
       "    }\n",
       "\n",
       "    .dataframe tbody tr th {\n",
       "        vertical-align: top;\n",
       "    }\n",
       "\n",
       "    .dataframe thead th {\n",
       "        text-align: right;\n",
       "    }\n",
       "</style>\n",
       "<table border=\"1\" class=\"dataframe\">\n",
       "  <thead>\n",
       "    <tr style=\"text-align: right;\">\n",
       "      <th></th>\n",
       "      <th>hotel</th>\n",
       "      <th>is_canceled</th>\n",
       "      <th>lead_time</th>\n",
       "      <th>arrival_date_year</th>\n",
       "      <th>arrival_date_month</th>\n",
       "      <th>arrival_date_week_number</th>\n",
       "      <th>arrival_date_day_of_month</th>\n",
       "      <th>stays_in_weekend_nights</th>\n",
       "      <th>stays_in_week_nights</th>\n",
       "      <th>adults</th>\n",
       "      <th>...</th>\n",
       "      <th>assigned_room_type</th>\n",
       "      <th>booking_changes</th>\n",
       "      <th>deposit_type</th>\n",
       "      <th>days_in_waiting_list</th>\n",
       "      <th>customer_type</th>\n",
       "      <th>adr</th>\n",
       "      <th>required_car_parking_spaces</th>\n",
       "      <th>total_of_special_requests</th>\n",
       "      <th>reservation_status</th>\n",
       "      <th>reservation_status_date</th>\n",
       "    </tr>\n",
       "  </thead>\n",
       "  <tbody>\n",
       "    <tr>\n",
       "      <th>0</th>\n",
       "      <td>Resort Hotel</td>\n",
       "      <td>0</td>\n",
       "      <td>342</td>\n",
       "      <td>2015</td>\n",
       "      <td>July</td>\n",
       "      <td>27</td>\n",
       "      <td>1</td>\n",
       "      <td>0</td>\n",
       "      <td>0</td>\n",
       "      <td>2</td>\n",
       "      <td>...</td>\n",
       "      <td>C</td>\n",
       "      <td>3</td>\n",
       "      <td>No Deposit</td>\n",
       "      <td>0</td>\n",
       "      <td>Transient</td>\n",
       "      <td>0.00</td>\n",
       "      <td>0</td>\n",
       "      <td>0</td>\n",
       "      <td>Check-Out</td>\n",
       "      <td>2015-07-01</td>\n",
       "    </tr>\n",
       "    <tr>\n",
       "      <th>1</th>\n",
       "      <td>Resort Hotel</td>\n",
       "      <td>0</td>\n",
       "      <td>737</td>\n",
       "      <td>2015</td>\n",
       "      <td>July</td>\n",
       "      <td>27</td>\n",
       "      <td>1</td>\n",
       "      <td>0</td>\n",
       "      <td>0</td>\n",
       "      <td>2</td>\n",
       "      <td>...</td>\n",
       "      <td>C</td>\n",
       "      <td>4</td>\n",
       "      <td>No Deposit</td>\n",
       "      <td>0</td>\n",
       "      <td>Transient</td>\n",
       "      <td>0.00</td>\n",
       "      <td>0</td>\n",
       "      <td>0</td>\n",
       "      <td>Check-Out</td>\n",
       "      <td>2015-07-01</td>\n",
       "    </tr>\n",
       "    <tr>\n",
       "      <th>2</th>\n",
       "      <td>Resort Hotel</td>\n",
       "      <td>0</td>\n",
       "      <td>7</td>\n",
       "      <td>2015</td>\n",
       "      <td>July</td>\n",
       "      <td>27</td>\n",
       "      <td>1</td>\n",
       "      <td>0</td>\n",
       "      <td>1</td>\n",
       "      <td>1</td>\n",
       "      <td>...</td>\n",
       "      <td>C</td>\n",
       "      <td>0</td>\n",
       "      <td>No Deposit</td>\n",
       "      <td>0</td>\n",
       "      <td>Transient</td>\n",
       "      <td>75.00</td>\n",
       "      <td>0</td>\n",
       "      <td>0</td>\n",
       "      <td>Check-Out</td>\n",
       "      <td>2015-07-02</td>\n",
       "    </tr>\n",
       "    <tr>\n",
       "      <th>3</th>\n",
       "      <td>Resort Hotel</td>\n",
       "      <td>0</td>\n",
       "      <td>13</td>\n",
       "      <td>2015</td>\n",
       "      <td>July</td>\n",
       "      <td>27</td>\n",
       "      <td>1</td>\n",
       "      <td>0</td>\n",
       "      <td>1</td>\n",
       "      <td>1</td>\n",
       "      <td>...</td>\n",
       "      <td>A</td>\n",
       "      <td>0</td>\n",
       "      <td>No Deposit</td>\n",
       "      <td>0</td>\n",
       "      <td>Transient</td>\n",
       "      <td>75.00</td>\n",
       "      <td>0</td>\n",
       "      <td>0</td>\n",
       "      <td>Check-Out</td>\n",
       "      <td>2015-07-02</td>\n",
       "    </tr>\n",
       "    <tr>\n",
       "      <th>4</th>\n",
       "      <td>Resort Hotel</td>\n",
       "      <td>0</td>\n",
       "      <td>14</td>\n",
       "      <td>2015</td>\n",
       "      <td>July</td>\n",
       "      <td>27</td>\n",
       "      <td>1</td>\n",
       "      <td>0</td>\n",
       "      <td>2</td>\n",
       "      <td>2</td>\n",
       "      <td>...</td>\n",
       "      <td>A</td>\n",
       "      <td>0</td>\n",
       "      <td>No Deposit</td>\n",
       "      <td>0</td>\n",
       "      <td>Transient</td>\n",
       "      <td>98.00</td>\n",
       "      <td>0</td>\n",
       "      <td>1</td>\n",
       "      <td>Check-Out</td>\n",
       "      <td>2015-07-03</td>\n",
       "    </tr>\n",
       "    <tr>\n",
       "      <th>...</th>\n",
       "      <td>...</td>\n",
       "      <td>...</td>\n",
       "      <td>...</td>\n",
       "      <td>...</td>\n",
       "      <td>...</td>\n",
       "      <td>...</td>\n",
       "      <td>...</td>\n",
       "      <td>...</td>\n",
       "      <td>...</td>\n",
       "      <td>...</td>\n",
       "      <td>...</td>\n",
       "      <td>...</td>\n",
       "      <td>...</td>\n",
       "      <td>...</td>\n",
       "      <td>...</td>\n",
       "      <td>...</td>\n",
       "      <td>...</td>\n",
       "      <td>...</td>\n",
       "      <td>...</td>\n",
       "      <td>...</td>\n",
       "      <td>...</td>\n",
       "    </tr>\n",
       "    <tr>\n",
       "      <th>119385</th>\n",
       "      <td>City Hotel</td>\n",
       "      <td>0</td>\n",
       "      <td>23</td>\n",
       "      <td>2017</td>\n",
       "      <td>August</td>\n",
       "      <td>35</td>\n",
       "      <td>30</td>\n",
       "      <td>2</td>\n",
       "      <td>5</td>\n",
       "      <td>2</td>\n",
       "      <td>...</td>\n",
       "      <td>A</td>\n",
       "      <td>0</td>\n",
       "      <td>No Deposit</td>\n",
       "      <td>0</td>\n",
       "      <td>Transient</td>\n",
       "      <td>96.14</td>\n",
       "      <td>0</td>\n",
       "      <td>0</td>\n",
       "      <td>Check-Out</td>\n",
       "      <td>2017-09-06</td>\n",
       "    </tr>\n",
       "    <tr>\n",
       "      <th>119386</th>\n",
       "      <td>City Hotel</td>\n",
       "      <td>0</td>\n",
       "      <td>102</td>\n",
       "      <td>2017</td>\n",
       "      <td>August</td>\n",
       "      <td>35</td>\n",
       "      <td>31</td>\n",
       "      <td>2</td>\n",
       "      <td>5</td>\n",
       "      <td>3</td>\n",
       "      <td>...</td>\n",
       "      <td>E</td>\n",
       "      <td>0</td>\n",
       "      <td>No Deposit</td>\n",
       "      <td>0</td>\n",
       "      <td>Transient</td>\n",
       "      <td>225.43</td>\n",
       "      <td>0</td>\n",
       "      <td>2</td>\n",
       "      <td>Check-Out</td>\n",
       "      <td>2017-09-07</td>\n",
       "    </tr>\n",
       "    <tr>\n",
       "      <th>119387</th>\n",
       "      <td>City Hotel</td>\n",
       "      <td>0</td>\n",
       "      <td>34</td>\n",
       "      <td>2017</td>\n",
       "      <td>August</td>\n",
       "      <td>35</td>\n",
       "      <td>31</td>\n",
       "      <td>2</td>\n",
       "      <td>5</td>\n",
       "      <td>2</td>\n",
       "      <td>...</td>\n",
       "      <td>D</td>\n",
       "      <td>0</td>\n",
       "      <td>No Deposit</td>\n",
       "      <td>0</td>\n",
       "      <td>Transient</td>\n",
       "      <td>157.71</td>\n",
       "      <td>0</td>\n",
       "      <td>4</td>\n",
       "      <td>Check-Out</td>\n",
       "      <td>2017-09-07</td>\n",
       "    </tr>\n",
       "    <tr>\n",
       "      <th>119388</th>\n",
       "      <td>City Hotel</td>\n",
       "      <td>0</td>\n",
       "      <td>109</td>\n",
       "      <td>2017</td>\n",
       "      <td>August</td>\n",
       "      <td>35</td>\n",
       "      <td>31</td>\n",
       "      <td>2</td>\n",
       "      <td>5</td>\n",
       "      <td>2</td>\n",
       "      <td>...</td>\n",
       "      <td>A</td>\n",
       "      <td>0</td>\n",
       "      <td>No Deposit</td>\n",
       "      <td>0</td>\n",
       "      <td>Transient</td>\n",
       "      <td>104.40</td>\n",
       "      <td>0</td>\n",
       "      <td>0</td>\n",
       "      <td>Check-Out</td>\n",
       "      <td>2017-09-07</td>\n",
       "    </tr>\n",
       "    <tr>\n",
       "      <th>119389</th>\n",
       "      <td>City Hotel</td>\n",
       "      <td>0</td>\n",
       "      <td>205</td>\n",
       "      <td>2017</td>\n",
       "      <td>August</td>\n",
       "      <td>35</td>\n",
       "      <td>29</td>\n",
       "      <td>2</td>\n",
       "      <td>7</td>\n",
       "      <td>2</td>\n",
       "      <td>...</td>\n",
       "      <td>A</td>\n",
       "      <td>0</td>\n",
       "      <td>No Deposit</td>\n",
       "      <td>0</td>\n",
       "      <td>Transient</td>\n",
       "      <td>151.20</td>\n",
       "      <td>0</td>\n",
       "      <td>2</td>\n",
       "      <td>Check-Out</td>\n",
       "      <td>2017-09-07</td>\n",
       "    </tr>\n",
       "  </tbody>\n",
       "</table>\n",
       "<p>119390 rows × 30 columns</p>\n",
       "</div>"
      ],
      "text/plain": [
       "               hotel  is_canceled  lead_time  arrival_date_year  \\\n",
       "0       Resort Hotel            0        342               2015   \n",
       "1       Resort Hotel            0        737               2015   \n",
       "2       Resort Hotel            0          7               2015   \n",
       "3       Resort Hotel            0         13               2015   \n",
       "4       Resort Hotel            0         14               2015   \n",
       "...              ...          ...        ...                ...   \n",
       "119385    City Hotel            0         23               2017   \n",
       "119386    City Hotel            0        102               2017   \n",
       "119387    City Hotel            0         34               2017   \n",
       "119388    City Hotel            0        109               2017   \n",
       "119389    City Hotel            0        205               2017   \n",
       "\n",
       "       arrival_date_month  arrival_date_week_number  \\\n",
       "0                    July                        27   \n",
       "1                    July                        27   \n",
       "2                    July                        27   \n",
       "3                    July                        27   \n",
       "4                    July                        27   \n",
       "...                   ...                       ...   \n",
       "119385             August                        35   \n",
       "119386             August                        35   \n",
       "119387             August                        35   \n",
       "119388             August                        35   \n",
       "119389             August                        35   \n",
       "\n",
       "        arrival_date_day_of_month  stays_in_weekend_nights  \\\n",
       "0                               1                        0   \n",
       "1                               1                        0   \n",
       "2                               1                        0   \n",
       "3                               1                        0   \n",
       "4                               1                        0   \n",
       "...                           ...                      ...   \n",
       "119385                         30                        2   \n",
       "119386                         31                        2   \n",
       "119387                         31                        2   \n",
       "119388                         31                        2   \n",
       "119389                         29                        2   \n",
       "\n",
       "        stays_in_week_nights  adults  ...  assigned_room_type  \\\n",
       "0                          0       2  ...                   C   \n",
       "1                          0       2  ...                   C   \n",
       "2                          1       1  ...                   C   \n",
       "3                          1       1  ...                   A   \n",
       "4                          2       2  ...                   A   \n",
       "...                      ...     ...  ...                 ...   \n",
       "119385                     5       2  ...                   A   \n",
       "119386                     5       3  ...                   E   \n",
       "119387                     5       2  ...                   D   \n",
       "119388                     5       2  ...                   A   \n",
       "119389                     7       2  ...                   A   \n",
       "\n",
       "        booking_changes deposit_type days_in_waiting_list customer_type  \\\n",
       "0                     3   No Deposit                    0     Transient   \n",
       "1                     4   No Deposit                    0     Transient   \n",
       "2                     0   No Deposit                    0     Transient   \n",
       "3                     0   No Deposit                    0     Transient   \n",
       "4                     0   No Deposit                    0     Transient   \n",
       "...                 ...          ...                  ...           ...   \n",
       "119385                0   No Deposit                    0     Transient   \n",
       "119386                0   No Deposit                    0     Transient   \n",
       "119387                0   No Deposit                    0     Transient   \n",
       "119388                0   No Deposit                    0     Transient   \n",
       "119389                0   No Deposit                    0     Transient   \n",
       "\n",
       "           adr  required_car_parking_spaces  total_of_special_requests  \\\n",
       "0         0.00                            0                          0   \n",
       "1         0.00                            0                          0   \n",
       "2        75.00                            0                          0   \n",
       "3        75.00                            0                          0   \n",
       "4        98.00                            0                          1   \n",
       "...        ...                          ...                        ...   \n",
       "119385   96.14                            0                          0   \n",
       "119386  225.43                            0                          2   \n",
       "119387  157.71                            0                          4   \n",
       "119388  104.40                            0                          0   \n",
       "119389  151.20                            0                          2   \n",
       "\n",
       "        reservation_status reservation_status_date  \n",
       "0                Check-Out              2015-07-01  \n",
       "1                Check-Out              2015-07-01  \n",
       "2                Check-Out              2015-07-02  \n",
       "3                Check-Out              2015-07-02  \n",
       "4                Check-Out              2015-07-03  \n",
       "...                    ...                     ...  \n",
       "119385           Check-Out              2017-09-06  \n",
       "119386           Check-Out              2017-09-07  \n",
       "119387           Check-Out              2017-09-07  \n",
       "119388           Check-Out              2017-09-07  \n",
       "119389           Check-Out              2017-09-07  \n",
       "\n",
       "[119390 rows x 30 columns]"
      ]
     },
     "execution_count": 7,
     "metadata": {},
     "output_type": "execute_result"
    }
   ],
   "source": [
    "df"
   ]
  },
  {
   "cell_type": "markdown",
   "id": "480c7477",
   "metadata": {},
   "source": [
    "# 2. Data analysis and visualization"
   ]
  },
  {
   "cell_type": "markdown",
   "id": "b95adbb9",
   "metadata": {},
   "source": [
    "## 2.1 City Hotel vs. Resort Hotel"
   ]
  },
  {
   "cell_type": "markdown",
   "id": "2ff22359",
   "metadata": {},
   "source": [
    "The first part of the analysis is a grand introduction to the project as we could clearly see that theres two types of hotels within the data set: City and Resort. We will structure our analysis in this project to discuss these two types of business seperately since we believe they are vastly different in real-world operations."
   ]
  },
  {
   "cell_type": "code",
   "execution_count": 8,
   "id": "b16e0d51",
   "metadata": {},
   "outputs": [
    {
     "data": {
      "text/plain": [
       "[Text(0.5, 0, 'Hotel Categories'),\n",
       " Text(0, 0.5, 'Counts'),\n",
       " Text(0.5, 1.0, 'Fig1-1: Resort Hotel and City Hotel Reservation/Cancelation')]"
      ]
     },
     "execution_count": 8,
     "metadata": {},
     "output_type": "execute_result"
    },
    {
     "data": {
      "image/png": "[encoded data removed]",
      "text/plain": [
       "<Figure size 432x288 with 1 Axes>"
      ]
     },
     "metadata": {},
     "output_type": "display_data"
    }
   ],
   "source": [
    "sns.set(style=\"whitegrid\",font_scale=1.4,context=\"paper\")\n",
    "P1=sns.countplot(x='hotel', hue='is_canceled', data=df)\n",
    "P1.set( xlabel = \"Hotel Categories\", ylabel = \"Counts\", title = 'Fig1-1: Resort Hotel and City Hotel Reservation/Cancelation')"
   ]
  },
  {
   "cell_type": "markdown",
   "id": "3e36d9a7",
   "metadata": {},
   "source": [
    "In figure 1-1 We could clearly see that the reservation at city hotel is significantly higher than resort hotel. Which might indicate that the data set is collected from a more urban area, yet the resort hotel has substantial reservations also. In terms of cancellation, the cancelation rate at resort hotel is visually below 50% of its successful reservations. However, the city hotel has many more cancellations. This gives us an insight that Resort hotel customers are more committed to the reservation compared to the city hotel customers."
   ]
  },
  {
   "cell_type": "markdown",
   "id": "c5846a4f",
   "metadata": {},
   "source": [
    "## 2.2 Customer-Country"
   ]
  },
  {
   "cell_type": "markdown",
   "id": "3e7deb93",
   "metadata": {},
   "source": [
    "After analysing from the consolidated perspective of the data set, we would like to dig a bit deeper into the customer composition, and generate insights about specific customer groups. First off, we will generate insight on our customers based on their nationalities."
   ]
  },
  {
   "cell_type": "code",
   "execution_count": 9,
   "id": "9172ff92",
   "metadata": {},
   "outputs": [
    {
     "data": {
      "text/plain": [
       "Text(0.5, 1.0, 'Fig2-2:Top 10 Countries Cancelation Rate')"
      ]
     },
     "execution_count": 9,
     "metadata": {},
     "output_type": "execute_result"
    },
    {
     "data": {
      "image/png": "[encoded data removed]",
      "text/plain": [
       "<Figure size 720x432 with 1 Axes>"
      ]
     },
     "metadata": {},
     "output_type": "display_data"
    },
    {
     "data": {
      "image/png": "[encoded data removed]",
      "text/plain": [
       "<Figure size 720x432 with 1 Axes>"
      ]
     },
     "metadata": {},
     "output_type": "display_data"
    }
   ],
   "source": [
    "countriesT10 = list(df.groupby('country').size().sort_values(ascending=False).head(10).index)\n",
    "df[df.country.isin(countriesT10)].shape[0] / df.shape[0]\n",
    "\n",
    "fig, ax1 = plt.subplots(figsize=(10, 6))\n",
    "plt.xticks(range(10), countriesT10)\n",
    "ax1.bar(range(10), df[df.country.isin(countriesT10)].groupby('country').size().sort_values(ascending=False))\n",
    "ax1.set_xlabel('Country',size=15)\n",
    "ax1.set_ylabel('Reservation',size=15)\n",
    "ax1.set_title('Fig2-1:Top 10 Countries Reservation',size=15,loc='center')\n",
    "\n",
    "fig, ax2 = plt.subplots(figsize=(10, 6))\n",
    "plt.xticks(range(10), countriesT10)\n",
    "ax2.plot(range(10),df[df.country.isin(countriesT10)].groupby('country')['is_canceled'].mean().loc[countriesT10], 'ro-')\n",
    "ax2.set_xlabel('Country',size=15)\n",
    "ax2.set_ylabel('Cancellation rate', size=15)\n",
    "ax2.set_title('Fig2-2:Top 10 Countries Cancelation Rate',size=15,loc='center')"
   ]
  },
  {
   "cell_type": "markdown",
   "id": "fd31fe89",
   "metadata": {},
   "source": [
    "In figure 2-1 and figure 2-2 we selected the top 10 countries of our customer base and took a look into their reservation count and cancellation rate. For figure 2-1, we discovered that the biggest customer base we have in this data set is Portugal customers, and it indicates that the data set is highly likely from Portuguese hotels. Beside the dominance of Portuguese customers, the UK and France are the next two in line. Surprisingly, the neighboring country,Spain, only came in fourth place in terms of numbers of reservations. This provides insight that the language requirement of the staff should prefer English and French besides the requirement of Portuguese. In figure 2-2, we could conclude that Portuguese, Italian and Brazilian Customers have the highest cancellation rate among the top 10 countries. Portuguese has a surprisingly high cancellation rate above 55%, and it is representing the highest reservation according to figure 2-1, thus it provides an insight that the management team needs to have a more strict cancellation policy to drive down the cancellation rate."
   ]
  },
  {
   "cell_type": "markdown",
   "id": "a94843ca",
   "metadata": {},
   "source": [
    "## 2.3 Customer- Size"
   ]
  },
  {
   "cell_type": "markdown",
   "id": "d3d2c11d",
   "metadata": {},
   "source": [
    "Among our population, we are also interested to identify which of the specific population type of customers(like single adults, adults in groups of two people, friends in one group booking the hotel together) would be the one that is most likely to cancel their reservations in different types of hotels so that we can find the most effective measures to reduce different hotels' cancellation rates. \n",
    "\n",
    "In order to explore the differences in cancellation rates between these different population type groups, we first need to select the population type groups that we are interested in and then define each of those populatioon type group. \n",
    "\n",
    "We are mainly interested in 4 different population type groups: single adults booking hotels for themselves, two adults traveling together, friend groups travelling together, and people traveling in family units since these are the most common population type groups that we can think of when booking hotels. "
   ]
  },
  {
   "cell_type": "markdown",
   "id": "9dc4db01",
   "metadata": {},
   "source": [
    "For the single adults group, it will just be 1 adult in the adult category with 0 children and 0 babies in the children and the babies category."
   ]
  },
  {
   "cell_type": "code",
   "execution_count": 10,
   "id": "a1873c2e",
   "metadata": {},
   "outputs": [],
   "source": [
    "singleadults = (df.adults == 1) & (df.children == 0) & (df.babies == 0)"
   ]
  },
  {
   "cell_type": "markdown",
   "id": "20e7b3cc",
   "metadata": {},
   "source": [
    "For the group of two adults travelling together, it will be 2 adults in the adult category with 0 children and 0 babies in the children and the babies category."
   ]
  },
  {
   "cell_type": "code",
   "execution_count": 11,
   "id": "3728f0d2",
   "metadata": {},
   "outputs": [],
   "source": [
    "twoadults = (df['adults'] == 2) & (df['children'] == 0) & (df['babies'] == 0)"
   ]
  },
  {
   "cell_type": "markdown",
   "id": "630c38f9",
   "metadata": {},
   "source": [
    "For the group with people traveling in family units, we assume each family will contain at least one adult in it and with at least 1 baby or 1 child with the adult."
   ]
  },
  {
   "cell_type": "code",
   "execution_count": 12,
   "id": "fda4fdd6",
   "metadata": {},
   "outputs": [],
   "source": [
    "families =  (df['adults'] >= 1) & (df['children'] >= 1) | (df['babies'] >= 1) "
   ]
  },
  {
   "cell_type": "markdown",
   "id": "aa9dd49a",
   "metadata": {},
   "source": [
    "For the freinds group travelling together, we assume each friend group will contain at least 3 adults with no children or babies."
   ]
  },
  {
   "cell_type": "code",
   "execution_count": 13,
   "id": "b97797cc",
   "metadata": {},
   "outputs": [],
   "source": [
    "friendsgroup = (df.adults >= 3) & (df.children == 0) & (df.babies == 0)"
   ]
  },
  {
   "cell_type": "markdown",
   "id": "0515bd0e",
   "metadata": {},
   "source": [
    "Now that we have selected and defined our population type groups, we graph out each group's cancelled to not cancelled comparison graphs side by side for the two different hotel types to see how they are different from each other in terms of cancellation ratios so we can figure out what actions can be taken by the hotels to prevent high cancellation rates. "
   ]
  },
  {
   "cell_type": "code",
   "execution_count": 14,
   "id": "8a064d4f",
   "metadata": {},
   "outputs": [
    {
     "data": {
      "image/png": "[encoded data removed]",
      "text/plain": [
       "<Figure size 1152x720 with 2 Axes>"
      ]
     },
     "metadata": {},
     "output_type": "display_data"
    }
   ],
   "source": [
    "df['populationtypes'] = singleadults.astype(int) + twoadults.astype(int) * 2 + friendsgroup.astype(int) * 3 + families.astype(int) * 4 \n",
    "plt.figure(figsize=(16,10))\n",
    "index=1\n",
    "for hoteltypes in ['City Hotel','Resort Hotel']:\n",
    "    plt.subplot(1,2,index)\n",
    "    index+=1\n",
    "    sns.countplot(y='populationtypes',hue='is_canceled', data=df[df.hotel==hoteltypes])\n",
    "    plt.yticks([0, 1, 2, 3, 4], ['Others','Single Adults', 'Two Adults', 'Friend Groups', 'Families'])\n",
    "    plt.title('fig3-1'+hoteltypes)\n",
    "    plt.tight_layout()"
   ]
  },
  {
   "cell_type": "markdown",
   "id": "c4a30176",
   "metadata": {},
   "source": [
    "As we can see from figure 3-1 . For city hotels, the two adults travelling together group is the group that is most likely to cancel their hotel reservations. So a potential solution to reduce city hotels' cancellation rates is to create more incentives to attract their customers travelling in groups of 2 through things like providing better lounge bars and romantic dinning experiences. For resort hotels, the family group is the group that is most likely to cancel their reservations. Therefore, a plausible solution to reduce resort hotels' cancellation rates would be to promote themselves as family friendly hotels through providing services like babysitting to attract more customers travelling in family units."
   ]
  },
  {
   "cell_type": "markdown",
   "id": "7d19162e",
   "metadata": {},
   "source": [
    "## 2.4 Advance Booking"
   ]
  },
  {
   "cell_type": "markdown",
   "id": "750a7399",
   "metadata": {},
   "source": [
    "The effect of advance booking time on concellation rates is also something that we would like to explore.(By advance booking time, we mean the amount of time people book their hotels ahead of their actual check-in dates. The bigger the number on the category \"lead_time\", the earlier the customers make their hotel reservations for their trips.) \n",
    "\n",
    "Before we actually explore the correlation between advance booking time and cancellation rates, let's first graph out the distribution of advance booking time among customers to get a visualization and basic understanding of how early do people typically book their hotel reservations in advance for their trips. "
   ]
  },
  {
   "cell_type": "code",
   "execution_count": 15,
   "id": "471462f3",
   "metadata": {},
   "outputs": [
    {
     "data": {
      "text/plain": [
       "Text(0.5, 1.0, 'Fig4-1 Reservations Booked in Advance')"
      ]
     },
     "execution_count": 15,
     "metadata": {},
     "output_type": "execute_result"
    },
    {
     "data": {
      "image/png": "[encoded data removed]",
      "text/plain": [
       "<Figure size 432x288 with 1 Axes>"
      ]
     },
     "metadata": {},
     "output_type": "display_data"
    }
   ],
   "source": [
    "plt.hist(df['lead_time'])\n",
    "plt.xlabel('Advance Booking Time')\n",
    "plt.ylabel('Number')\n",
    "plt.title('Fig4-1 Reservations Booked in Advance')"
   ]
  },
  {
   "cell_type": "markdown",
   "id": "110ce41d",
   "metadata": {},
   "source": [
    "As we can see from the above distribution graph, most customers do not book their hotel reservations too advance. Which might indicates that there is room for price fencing to gain arbitrage in the customer behavior of no-advanced booking"
   ]
  },
  {
   "cell_type": "code",
   "execution_count": 16,
   "id": "752f047e",
   "metadata": {},
   "outputs": [
    {
     "data": {
      "text/plain": [
       "0.2931233557607148"
      ]
     },
     "execution_count": 16,
     "metadata": {},
     "output_type": "execute_result"
    }
   ],
   "source": [
    "df['lead_time'].corr(df['is_canceled'])"
   ]
  },
  {
   "cell_type": "markdown",
   "id": "23999cf3",
   "metadata": {},
   "source": [
    "Even though the correlation between customers' advance booking time and the cancellation rates of their hotel reservations is not quite as strong as we might have expected, there does appear a positive correlation which indicates that customers' advance booking time does play a role in affecting their reservation cancellation rates somehow and something can be done by the hotels to lower the cancellation rates by altering customers' advance booking time.\n",
    "\n",
    "Now let's explore the relationship between advance booking time and cancellation rates visually."
   ]
  },
  {
   "cell_type": "code",
   "execution_count": 17,
   "id": "fe75abde",
   "metadata": {},
   "outputs": [
    {
     "data": {
      "text/plain": [
       "Text(0.5, 1.0, 'Fig4-2 Cancellation for Booked in Advance')"
      ]
     },
     "execution_count": 17,
     "metadata": {},
     "output_type": "execute_result"
    },
    {
     "data": {
      "image/png": "[encoded data removed]",
      "text/plain": [
       "<Figure size 432x288 with 1 Axes>"
      ]
     },
     "metadata": {},
     "output_type": "display_data"
    }
   ],
   "source": [
    "plt.plot(df.groupby('lead_time')['is_canceled'].mean(),'o')\n",
    "plt.xlabel('Advance Booking Time')\n",
    "plt.ylabel('Cancellation Rate')\n",
    "plt.title('Fig4-2 Cancellation for Booked in Advance')"
   ]
  },
  {
   "cell_type": "markdown",
   "id": "020464bc",
   "metadata": {},
   "source": [
    "As we can see from figure 4-2, customers' cancellation rates of their hotel bookings go up as the advance booking time of their reservations increases. Therefore, an approach for the hotels to reduce their cancellation rates is to shorten the number of days that customers can book their hotels in advance. For example, only allowing customers to book their hotels 7 days ahead of their actual check-in dates. "
   ]
  },
  {
   "cell_type": "markdown",
   "id": "48772676",
   "metadata": {},
   "source": [
    "## 2.5 Seasonality"
   ]
  },
  {
   "cell_type": "markdown",
   "id": "99031f4e",
   "metadata": {},
   "source": [
    "The next area for our analysis will be focused on a common phnomenon in hotel industry which is the seasonality of the business.The number of customers coming in the hotels flutuates around the year since there are holiday seasons and weather restrictions."
   ]
  },
  {
   "cell_type": "code",
   "execution_count": 18,
   "id": "0a73fde2",
   "metadata": {},
   "outputs": [
    {
     "name": "stderr",
     "output_type": "stream",
     "text": [
      "/opt/anaconda3/lib/python3.8/site-packages/seaborn/_decorators.py:36: FutureWarning: Pass the following variables as keyword args: x, y. From version 0.12, the only valid positional argument will be `data`, and passing other arguments without an explicit keyword will result in an error or misinterpretation.\n",
      "  warnings.warn(\n",
      "/opt/anaconda3/lib/python3.8/site-packages/seaborn/_decorators.py:36: FutureWarning: Pass the following variables as keyword args: x, y. From version 0.12, the only valid positional argument will be `data`, and passing other arguments without an explicit keyword will result in an error or misinterpretation.\n",
      "  warnings.warn(\n"
     ]
    },
    {
     "data": {
      "image/png": "[encoded data removed]",
      "text/plain": [
       "<Figure size 432x288 with 2 Axes>"
      ]
     },
     "metadata": {},
     "output_type": "display_data"
    },
    {
     "data": {
      "image/png": "[encoded data removed]",
      "text/plain": [
       "<Figure size 432x288 with 2 Axes>"
      ]
     },
     "metadata": {},
     "output_type": "display_data"
    }
   ],
   "source": [
    "ordered_months = [\"January\", \"February\", \"March\", \"April\", \"May\", \"June\", \"July\", \"August\", \"September\", \"October\", \"November\", \"December\"]\n",
    "\n",
    "for hotel in ['City Hotel']:\n",
    "    fig, ax1 = plt.subplots()\n",
    "    ax2 = ax1.twinx()\n",
    "    data_hotel=df[df.hotel==hotel]\n",
    "    monthly = data_hotel.groupby('arrival_date_month').size()\n",
    "    sns.barplot(list(range(1, 13)), monthly[ordered_months], ax=ax1)\n",
    "    ax2.plot(\n",
    "    range(12), data_hotel.groupby('arrival_date_month')\n",
    "    ['is_canceled'].mean()[ordered_months].values, 'ro-')\n",
    "    ax1.set_title('Fig 5-1: City Hotel')\n",
    "    ax1.set_xlabel('Month')\n",
    "    ax2.set_ylabel('Cancellation rate')\n",
    "    \n",
    "for hotel in ['Resort Hotel']:\n",
    "    fig, ax1 = plt.subplots()\n",
    "    ax2 = ax1.twinx()\n",
    "    data_hotel=df[df.hotel==hotel]\n",
    "    monthly = data_hotel.groupby('arrival_date_month').size()\n",
    "    sns.barplot(list(range(1, 13)), monthly[ordered_months], ax=ax1)\n",
    "    ax2.plot(\n",
    "    range(12), data_hotel.groupby('arrival_date_month')\n",
    "    ['is_canceled'].mean()[ordered_months].values, 'ro-')\n",
    "    ax1.set_title('Fig 6-2: Resort Hotel')\n",
    "    ax1.set_xlabel('Month')\n",
    "    ax2.set_ylabel('Cancellation rate')"
   ]
  },
  {
   "cell_type": "markdown",
   "id": "bf905a3f",
   "metadata": {},
   "source": [
    "For city hotels, we could see seasonal peaks for bookings to reach the highest during the summer months from May through Auguest. As for cancelltion, the rates of cancellation is at the lowest during the winter months of November through march and it climbs dramatically leading up to the summer months. \n",
    "\n",
    "For resort hotels, we could see seasonal peaks for bookings to also reach the highest during the summer months, with July and August at its peak. As for cancelltion, the rates of cancellation is at the lowest during the winter months of November through January and it climbs dramatically leading up to the summer months. "
   ]
  },
  {
   "cell_type": "markdown",
   "id": "3ab9fae6",
   "metadata": {},
   "source": [
    "## 2.6 Price"
   ]
  },
  {
   "cell_type": "code",
   "execution_count": 56,
   "id": "bfc3494b",
   "metadata": {},
   "outputs": [],
   "source": [
    "df['arrival_date_month'] = pd.Categorical(df['arrival_date_month'], categories=ordered_months, ordered=True)\n",
    "sorted_df = df.sort_values('arrival_date_month')"
   ]
  },
  {
   "cell_type": "markdown",
   "id": "89a7845a",
   "metadata": {},
   "source": [
    "# 3.Model to Predict Cancellation"
   ]
  },
  {
   "cell_type": "markdown",
   "id": "a13ee5c9",
   "metadata": {},
   "source": [
    "## 3.1 Parameter selection\n",
    "From the analysis above we know that guests who cancel the most are couples and single adult. For city hotels and resort hotels, cancellation rate varies in different months. Therefore, we can start buidling the model by seperating hotels into two types and aiming to capture the effect of guest type.\n",
    "\n",
    "We would also like to capture effects of other parameters that potentially affect the cancellation rate, so we do the following correlation analysis:"
   ]
  },
  {
   "cell_type": "code",
   "execution_count": 121,
   "id": "69fda0d2",
   "metadata": {},
   "outputs": [
    {
     "name": "stdout",
     "output_type": "stream",
     "text": [
      "Correlation between is_canceled and \n",
      "is_canceled------------------- : 1.00\n",
      "lead_time--------------------- : 0.29\n",
      "arrival_date_year------------- : 0.02\n",
      "arrival_date_week_number------ : 0.01\n",
      "arrival_date_day_of_month----- : -0.01\n",
      "stays_in_weekend_nights------- : -0.00\n",
      "stays_in_week_nights---------- : 0.02\n",
      "adults------------------------ : 0.06\n",
      "babies------------------------ : -0.03\n",
      "is_repeated_guest------------- : -0.08\n",
      "previous_cancellations-------- : 0.11\n",
      "previous_bookings_not_canceled : -0.06\n",
      "booking_changes--------------- : -0.14\n",
      "days_in_waiting_list---------- : 0.05\n",
      "required_car_parking_spaces--- : -0.20\n",
      "total_of_special_requests----- : -0.23\n"
     ]
    }
   ],
   "source": [
    "parameters = df.columns.tolist()\n",
    "cor = []\n",
    "print('Correlation between is_canceled and ')\n",
    "for p in parameters:\n",
    "    if isinstance(df[p][0] ,np.int64):\n",
    "        temp = df[p].corr(df['is_canceled'])\n",
    "        cor.append(temp)\n",
    "        print(p.ljust(30,'-'), ':' , '{:{width}.{prec}f}'.format(temp,width=3,prec=2))"
   ]
  },
  {
   "cell_type": "markdown",
   "id": "8a89ab39",
   "metadata": {},
   "source": [
    "From the output we can see that 'lead_time' and 'previous_cancellations' have significant positive correlations with cancellation. 'required car parking spaces', 'booking_changes', and 'total of sepcial requests' have significant negative correlations with 'iscanceled'.\n",
    "\n",
    "Furthermore, 'babies' has a low negative correlation which intuitively make sense. Maybe guests that travel with babies are less inclined to change their schedule.\n",
    "\n",
    "'is_repeated_guest' and 'previous_booking_not_canceled' both have low but negative correlations with cancelling. These two also intuitivly make sense. Visit the hotel repeatly implies that the guests like the hotel so they are less likly to change compared to the others. Therefore, we want to take them into consideration further on.\n",
    "\n",
    "'adults' and 'days_in_waiting_list' have low positive correlation with cancelling. It is reasonable to assume that the longer a guest is in the waiting list, the more impatient he/she will be, so the guest is more likely to cancel. The guest could also be looking for other hotels while in the waiting list which also make cancellation more likely. For 'adults', intuitivly we cannot think of a good assumption of it, but we still want to take it into consideration just in case."
   ]
  },
  {
   "cell_type": "code",
   "execution_count": 122,
   "id": "afc5fcf6",
   "metadata": {},
   "outputs": [
    {
     "data": {
      "text/html": [
       "<div>\n",
       "<style scoped>\n",
       "    .dataframe tbody tr th:only-of-type {\n",
       "        vertical-align: middle;\n",
       "    }\n",
       "\n",
       "    .dataframe tbody tr th {\n",
       "        vertical-align: top;\n",
       "    }\n",
       "\n",
       "    .dataframe thead th {\n",
       "        text-align: right;\n",
       "    }\n",
       "</style>\n",
       "<table border=\"1\" class=\"dataframe\">\n",
       "  <thead>\n",
       "    <tr style=\"text-align: right;\">\n",
       "      <th></th>\n",
       "      <th>hotel</th>\n",
       "      <th>is_canceled</th>\n",
       "      <th>lead_time</th>\n",
       "      <th>arrival_date_year</th>\n",
       "      <th>arrival_date_month</th>\n",
       "      <th>arrival_date_week_number</th>\n",
       "      <th>arrival_date_day_of_month</th>\n",
       "      <th>stays_in_weekend_nights</th>\n",
       "      <th>stays_in_week_nights</th>\n",
       "      <th>adults</th>\n",
       "      <th>...</th>\n",
       "      <th>booking_changes</th>\n",
       "      <th>deposit_type</th>\n",
       "      <th>days_in_waiting_list</th>\n",
       "      <th>customer_type</th>\n",
       "      <th>adr</th>\n",
       "      <th>required_car_parking_spaces</th>\n",
       "      <th>total_of_special_requests</th>\n",
       "      <th>reservation_status</th>\n",
       "      <th>reservation_status_date</th>\n",
       "      <th>populationtypes</th>\n",
       "    </tr>\n",
       "  </thead>\n",
       "  <tbody>\n",
       "    <tr>\n",
       "      <th>0</th>\n",
       "      <td>Resort Hotel</td>\n",
       "      <td>0</td>\n",
       "      <td>342</td>\n",
       "      <td>2015</td>\n",
       "      <td>July</td>\n",
       "      <td>27</td>\n",
       "      <td>1</td>\n",
       "      <td>0</td>\n",
       "      <td>0</td>\n",
       "      <td>2</td>\n",
       "      <td>...</td>\n",
       "      <td>3</td>\n",
       "      <td>No Deposit</td>\n",
       "      <td>0</td>\n",
       "      <td>Transient</td>\n",
       "      <td>0.0</td>\n",
       "      <td>0</td>\n",
       "      <td>0</td>\n",
       "      <td>Check-Out</td>\n",
       "      <td>7/1/2015</td>\n",
       "      <td>2</td>\n",
       "    </tr>\n",
       "    <tr>\n",
       "      <th>1</th>\n",
       "      <td>Resort Hotel</td>\n",
       "      <td>0</td>\n",
       "      <td>737</td>\n",
       "      <td>2015</td>\n",
       "      <td>July</td>\n",
       "      <td>27</td>\n",
       "      <td>1</td>\n",
       "      <td>0</td>\n",
       "      <td>0</td>\n",
       "      <td>2</td>\n",
       "      <td>...</td>\n",
       "      <td>4</td>\n",
       "      <td>No Deposit</td>\n",
       "      <td>0</td>\n",
       "      <td>Transient</td>\n",
       "      <td>0.0</td>\n",
       "      <td>0</td>\n",
       "      <td>0</td>\n",
       "      <td>Check-Out</td>\n",
       "      <td>7/1/2015</td>\n",
       "      <td>2</td>\n",
       "    </tr>\n",
       "    <tr>\n",
       "      <th>2</th>\n",
       "      <td>Resort Hotel</td>\n",
       "      <td>0</td>\n",
       "      <td>7</td>\n",
       "      <td>2015</td>\n",
       "      <td>July</td>\n",
       "      <td>27</td>\n",
       "      <td>1</td>\n",
       "      <td>0</td>\n",
       "      <td>1</td>\n",
       "      <td>1</td>\n",
       "      <td>...</td>\n",
       "      <td>0</td>\n",
       "      <td>No Deposit</td>\n",
       "      <td>0</td>\n",
       "      <td>Transient</td>\n",
       "      <td>75.0</td>\n",
       "      <td>0</td>\n",
       "      <td>0</td>\n",
       "      <td>Check-Out</td>\n",
       "      <td>7/2/2015</td>\n",
       "      <td>1</td>\n",
       "    </tr>\n",
       "    <tr>\n",
       "      <th>3</th>\n",
       "      <td>Resort Hotel</td>\n",
       "      <td>0</td>\n",
       "      <td>13</td>\n",
       "      <td>2015</td>\n",
       "      <td>July</td>\n",
       "      <td>27</td>\n",
       "      <td>1</td>\n",
       "      <td>0</td>\n",
       "      <td>1</td>\n",
       "      <td>1</td>\n",
       "      <td>...</td>\n",
       "      <td>0</td>\n",
       "      <td>No Deposit</td>\n",
       "      <td>0</td>\n",
       "      <td>Transient</td>\n",
       "      <td>75.0</td>\n",
       "      <td>0</td>\n",
       "      <td>0</td>\n",
       "      <td>Check-Out</td>\n",
       "      <td>7/2/2015</td>\n",
       "      <td>1</td>\n",
       "    </tr>\n",
       "    <tr>\n",
       "      <th>4</th>\n",
       "      <td>Resort Hotel</td>\n",
       "      <td>0</td>\n",
       "      <td>14</td>\n",
       "      <td>2015</td>\n",
       "      <td>July</td>\n",
       "      <td>27</td>\n",
       "      <td>1</td>\n",
       "      <td>0</td>\n",
       "      <td>2</td>\n",
       "      <td>2</td>\n",
       "      <td>...</td>\n",
       "      <td>0</td>\n",
       "      <td>No Deposit</td>\n",
       "      <td>0</td>\n",
       "      <td>Transient</td>\n",
       "      <td>98.0</td>\n",
       "      <td>0</td>\n",
       "      <td>1</td>\n",
       "      <td>Check-Out</td>\n",
       "      <td>7/3/2015</td>\n",
       "      <td>2</td>\n",
       "    </tr>\n",
       "  </tbody>\n",
       "</table>\n",
       "<p>5 rows × 31 columns</p>\n",
       "</div>"
      ],
      "text/plain": [
       "          hotel  is_canceled  lead_time  arrival_date_year arrival_date_month  \\\n",
       "0  Resort Hotel            0        342               2015               July   \n",
       "1  Resort Hotel            0        737               2015               July   \n",
       "2  Resort Hotel            0          7               2015               July   \n",
       "3  Resort Hotel            0         13               2015               July   \n",
       "4  Resort Hotel            0         14               2015               July   \n",
       "\n",
       "   arrival_date_week_number  arrival_date_day_of_month  \\\n",
       "0                        27                          1   \n",
       "1                        27                          1   \n",
       "2                        27                          1   \n",
       "3                        27                          1   \n",
       "4                        27                          1   \n",
       "\n",
       "   stays_in_weekend_nights  stays_in_week_nights  adults  ...  \\\n",
       "0                        0                     0       2  ...   \n",
       "1                        0                     0       2  ...   \n",
       "2                        0                     1       1  ...   \n",
       "3                        0                     1       1  ...   \n",
       "4                        0                     2       2  ...   \n",
       "\n",
       "   booking_changes  deposit_type days_in_waiting_list customer_type   adr  \\\n",
       "0                3    No Deposit                    0     Transient   0.0   \n",
       "1                4    No Deposit                    0     Transient   0.0   \n",
       "2                0    No Deposit                    0     Transient  75.0   \n",
       "3                0    No Deposit                    0     Transient  75.0   \n",
       "4                0    No Deposit                    0     Transient  98.0   \n",
       "\n",
       "  required_car_parking_spaces  total_of_special_requests  reservation_status  \\\n",
       "0                           0                          0           Check-Out   \n",
       "1                           0                          0           Check-Out   \n",
       "2                           0                          0           Check-Out   \n",
       "3                           0                          0           Check-Out   \n",
       "4                           0                          1           Check-Out   \n",
       "\n",
       "   reservation_status_date populationtypes  \n",
       "0                 7/1/2015               2  \n",
       "1                 7/1/2015               2  \n",
       "2                 7/2/2015               1  \n",
       "3                 7/2/2015               1  \n",
       "4                 7/3/2015               2  \n",
       "\n",
       "[5 rows x 31 columns]"
      ]
     },
     "execution_count": 122,
     "metadata": {},
     "output_type": "execute_result"
    }
   ],
   "source": [
    "df.head()"
   ]
  },
  {
   "cell_type": "code",
   "execution_count": 123,
   "id": "502be46a",
   "metadata": {},
   "outputs": [
    {
     "data": {
      "text/plain": [
       "Index(['hotel', 'is_canceled', 'lead_time', 'arrival_date_year',\n",
       "       'arrival_date_month', 'arrival_date_week_number',\n",
       "       'arrival_date_day_of_month', 'stays_in_weekend_nights',\n",
       "       'stays_in_week_nights', 'adults', 'children', 'babies', 'meal',\n",
       "       'country', 'market_segment', 'distribution_channel',\n",
       "       'is_repeated_guest', 'previous_cancellations',\n",
       "       'previous_bookings_not_canceled', 'reserved_room_type',\n",
       "       'assigned_room_type', 'booking_changes', 'deposit_type',\n",
       "       'days_in_waiting_list', 'customer_type', 'adr',\n",
       "       'required_car_parking_spaces', 'total_of_special_requests',\n",
       "       'reservation_status', 'reservation_status_date', 'populationtypes'],\n",
       "      dtype='object')"
      ]
     },
     "execution_count": 123,
     "metadata": {},
     "output_type": "execute_result"
    }
   ],
   "source": [
    "df.columns"
   ]
  },
  {
   "cell_type": "code",
   "execution_count": 136,
   "id": "ed7e87d9",
   "metadata": {},
   "outputs": [],
   "source": [
    "# Construct a matrix containing features and y_values\n",
    "M = pd.DataFrame({'lead_time' : df['lead_time'].tolist(),\n",
    "                  'previous_cancellations' : df['previous_cancellations'].tolist(),\n",
    "                  'required_car_parking_spaces' : df['required_car_parking_spaces'].tolist(),\n",
    "                  'is_repeated_guest' : df['is_repeated_guest'].tolist(),\n",
    "                  'previous_booking_not_canceled' : df['previous_bookings_not_canceled'].tolist(),\n",
    "                  'babies' : df['babies'].tolist(),\n",
    "                  'adults' : df['adults'].tolist(),\n",
    "                  'days_in_waiting_list' : df['days_in_waiting_list'].tolist(),\n",
    "                  'arrival_date_day_of_month' : df['arrival_date_day_of_month'].tolist(), \n",
    "                  'populationtypes' : df['populationtypes'].tolist(),\n",
    "                  'is_canceled' : df['is_canceled'].tolist()})\n",
    "# Split data into trainning set and testing set\n",
    "M_train = M.sample(frac = 0.75)\n",
    "M_test = M.drop(M_train.index)\n",
    "# Split data into train_X, train_y, test_X, and test_y in ndarray forms \n",
    "train_X = M_train.drop(columns=['is_canceled']).to_numpy()\n",
    "train_y = M_train['is_canceled'].to_numpy().ravel()\n",
    "test_X = M_test.drop(columns=['is_canceled']).to_numpy()\n",
    "test_y = M_test['is_canceled'].to_numpy().ravel()"
   ]
  },
  {
   "cell_type": "markdown",
   "id": "35e2de0d",
   "metadata": {},
   "source": [
    "## 3.2 Logistic Model"
   ]
  },
  {
   "cell_type": "code",
   "execution_count": 137,
   "id": "a22886da",
   "metadata": {},
   "outputs": [
    {
     "name": "stderr",
     "output_type": "stream",
     "text": [
      "D:\\anaconda\\lib\\site-packages\\sklearn\\linear_model\\_logistic.py:763: ConvergenceWarning: lbfgs failed to converge (status=1):\n",
      "STOP: TOTAL NO. of ITERATIONS REACHED LIMIT.\n",
      "\n",
      "Increase the number of iterations (max_iter) or scale the data as shown in:\n",
      "    https://scikit-learn.org/stable/modules/preprocessing.html\n",
      "Please also refer to the documentation for alternative solver options:\n",
      "    https://scikit-learn.org/stable/modules/linear_model.html#logistic-regression\n",
      "  n_iter_i = _check_optimize_result(\n"
     ]
    },
    {
     "data": {
      "text/plain": [
       "0    24864\n",
       "1     4984\n",
       "Name: cancel, dtype: int64"
      ]
     },
     "execution_count": 137,
     "metadata": {},
     "output_type": "execute_result"
    }
   ],
   "source": [
    "# Fit a logstic model to Train_X\n",
    "clf = LogisticRegression(random_state=0).fit(train_X, train_y)\n",
    "# Predict y based on test_X\n",
    "pred_y = clf.predict(test_X)\n",
    "# Use value_counts to see the how prediction distribution\n",
    "pd.DataFrame(pred_y, columns = ['cancel'])['cancel'].value_counts()"
   ]
  },
  {
   "cell_type": "markdown",
   "id": "83e7bf60",
   "metadata": {},
   "source": [
    "## 3.3 Accuracy\n",
    "We especially care bout type II error, because if we make type I error, the hotel can still make revenue, but it we make type II error, the hotel could end up leaving empty rooms. \n",
    "\n",
    "#### Accuracy in general"
   ]
  },
  {
   "cell_type": "code",
   "execution_count": 128,
   "id": "b70d8c7d",
   "metadata": {},
   "outputs": [
    {
     "data": {
      "text/plain": [
       "0.6934467971053337"
      ]
     },
     "execution_count": 128,
     "metadata": {},
     "output_type": "execute_result"
    }
   ],
   "source": [
    "ac = 0\n",
    "c = 0\n",
    "for i in range(len(test_y)):\n",
    "    if pred_y[i] == test_y[i]:\n",
    "        ac+=1\n",
    "    c+=1\n",
    "ac/c"
   ]
  },
  {
   "cell_type": "markdown",
   "id": "80d5a816",
   "metadata": {},
   "source": [
    "#### Type II  error"
   ]
  },
  {
   "cell_type": "code",
   "execution_count": 129,
   "id": "12a8916b",
   "metadata": {},
   "outputs": [
    {
     "data": {
      "text/plain": [
       "0.0"
      ]
     },
     "execution_count": 129,
     "metadata": {},
     "output_type": "execute_result"
    }
   ],
   "source": [
    "er = 0\n",
    "c = 0\n",
    "for i in range(len(test_y)):\n",
    "    if pred_y[i] == 0 & test_y[i] == 1:\n",
    "        er+=1\n",
    "    c+=1\n",
    "er/c"
   ]
  },
  {
   "cell_type": "markdown",
   "id": "de72f495",
   "metadata": {},
   "source": [
    "The model does not make type II error. This is good."
   ]
  },
  {
   "cell_type": "markdown",
   "id": "836eb8ac",
   "metadata": {},
   "source": [
    "#### Power of test"
   ]
  },
  {
   "cell_type": "code",
   "execution_count": 130,
   "id": "5073537c",
   "metadata": {},
   "outputs": [
    {
     "data": {
      "text/plain": [
       "0.11293889037791477"
      ]
     },
     "execution_count": 130,
     "metadata": {},
     "output_type": "execute_result"
    }
   ],
   "source": [
    "rej = 0\n",
    "c = 0\n",
    "for i in range(len(test_y)):\n",
    "    if pred_y[i] == 1 & test_y[i] == 1:\n",
    "        rej+=1\n",
    "    c+=1\n",
    "rej/c"
   ]
  },
  {
   "cell_type": "markdown",
   "id": "655780fb",
   "metadata": {},
   "source": [
    "The model successfully predicted 11.3% of cancellation. Since the model does not make Type II error, we know that all the errors come from not being able to reject the null hypothesis which is 'the guest will not cancel their order'.\n",
    "\n",
    "To improve the model, we can change what parameters we choose\n",
    "\n",
    "We only care about if guest is single or a couple or not, so we make this variable either 1 or 0."
   ]
  },
  {
   "cell_type": "code",
   "execution_count": 132,
   "id": "2bf47b89",
   "metadata": {},
   "outputs": [],
   "source": [
    "df['populationtypes_mod'] = singleadults.astype(int) + adultsincouples.astype(int)"
   ]
  },
  {
   "cell_type": "markdown",
   "id": "f836152f",
   "metadata": {},
   "source": [
    "We can also try removing parameters that have low correlation with cancellation rate"
   ]
  },
  {
   "cell_type": "code",
   "execution_count": 138,
   "id": "b3d4f4e2",
   "metadata": {},
   "outputs": [
    {
     "name": "stderr",
     "output_type": "stream",
     "text": [
      "D:\\anaconda\\lib\\site-packages\\sklearn\\linear_model\\_logistic.py:763: ConvergenceWarning: lbfgs failed to converge (status=1):\n",
      "STOP: TOTAL NO. of ITERATIONS REACHED LIMIT.\n",
      "\n",
      "Increase the number of iterations (max_iter) or scale the data as shown in:\n",
      "    https://scikit-learn.org/stable/modules/preprocessing.html\n",
      "Please also refer to the documentation for alternative solver options:\n",
      "    https://scikit-learn.org/stable/modules/linear_model.html#logistic-regression\n",
      "  n_iter_i = _check_optimize_result(\n"
     ]
    },
    {
     "data": {
      "text/plain": [
       "0    24864\n",
       "1     4984\n",
       "Name: cancel, dtype: int64"
      ]
     },
     "execution_count": 138,
     "metadata": {},
     "output_type": "execute_result"
    }
   ],
   "source": [
    "# New matrix\n",
    "M = pd.DataFrame({'lead_time' : df['lead_time'].tolist(),\n",
    "                  'previous_cancellations' : df['previous_cancellations'].tolist(),\n",
    "                  'required_car_parking_spaces' : df['required_car_parking_spaces'].tolist(),\n",
    "                  'arrival_date_day_of_month' : df['arrival_date_day_of_month'].tolist(), \n",
    "                  'populationtypes' : df['populationtypes'].tolist(),\n",
    "                  'is_canceled' : df['is_canceled'].tolist()})\n",
    "# Split data into train_X, train_y, test_X, and test_y in ndarray forms \n",
    "train_X = M_train.drop(columns=['is_canceled']).to_numpy()\n",
    "train_y = M_train['is_canceled'].to_numpy().ravel()\n",
    "test_X = M_test.drop(columns=['is_canceled']).to_numpy()\n",
    "test_y = M_test['is_canceled'].to_numpy().ravel()\n",
    "# Fit a logstic model to Train_X\n",
    "clf = LogisticRegression(random_state=0).fit(train_X, train_y)\n",
    "# Predict y based on test_X\n",
    "pred_y = clf.predict(test_X)\n",
    "# Use value_counts to see the how prediction distribution\n",
    "pd.DataFrame(pred_y, columns = ['cancel'])['cancel'].value_counts()"
   ]
  },
  {
   "cell_type": "code",
   "execution_count": 139,
   "id": "9040dc2c",
   "metadata": {},
   "outputs": [
    {
     "name": "stdout",
     "output_type": "stream",
     "text": [
      "The accuracy rate of the model is 0.6913696060037523 \n",
      "The Type II error rate is 0.0 \n",
      "The power of model is 0.11394398284642188\n"
     ]
    }
   ],
   "source": [
    "ac = 0\n",
    "er = 0\n",
    "rej = 0\n",
    "c = 0\n",
    "for i in range(len(test_y)):\n",
    "    if pred_y[i] == test_y[i]:\n",
    "        ac+=1\n",
    "    if pred_y[i] == 0 & test_y[i] == 1:\n",
    "        er+=1\n",
    "    if pred_y[i] == 1 & test_y[i] == 1:\n",
    "        rej+=1\n",
    "    c+=1\n",
    "print('The accuracy rate of the model is', ac/c,\n",
    "      '\\nThe Type II error rate is', er/c,\n",
    "      '\\nThe power of model is', rej/c)"
   ]
  },
  {
   "cell_type": "markdown",
   "id": "9764b4e1",
   "metadata": {},
   "source": [
    "This is not idfferent than the complex model we built, which implies that the parameters we removed from the model contribute nothing to the prediction of cancellation. Also they might intuitivly make sense, their effect on cancellation could be too small to matter the result.\n",
    "\n",
    "Overall, this model has some power of test which could provide insight for hotel managers about what are some key features they should be looking at concerning to the cancellation rate. For example, if the guests are a couple, or a single adult, if they require parking space, and how early they booked the room."
   ]
  },
  {
   "cell_type": "markdown",
   "id": "67aa45ce",
   "metadata": {},
   "source": [
    "# 4. Model Comparison"
   ]
  },
  {
   "cell_type": "markdown",
   "id": "b0e84edd",
   "metadata": {},
   "source": [
    "# 5. Conclusion"
   ]
  },
  {
   "cell_type": "markdown",
   "id": "88a510ce",
   "metadata": {},
   "source": [
    "# Reference"
   ]
  },
  {
   "cell_type": "markdown",
   "id": "8dc4b086",
   "metadata": {},
   "source": [
    " data collection: https://www.kaggle.com/datasets/jessemostipak/hotel-booking-demand\n",
    " one graph in this paper is similar to our project's graph: https://medium.com/analytics-vidhya/exploratory-data-analysis-eda-for-predicting-hotel-booking-cancellations-using-machine-learning-3990be4af2ff"
   ]
  }
 ],
 "metadata": {
  "kernelspec": {
   "display_name": "Python 3 (ipykernel)",
   "language": "python",
   "name": "python3"
  },
  "language_info": {
   "codemirror_mode": {
    "name": "ipython",
    "version": 3
   },
   "file_extension": ".py",
   "mimetype": "text/x-python",
   "name": "python",
   "nbconvert_exporter": "python",
   "pygments_lexer": "ipython3",
   "version": "3.7.13"
  }
 },
 "nbformat": 4,
 "nbformat_minor": 5
}
